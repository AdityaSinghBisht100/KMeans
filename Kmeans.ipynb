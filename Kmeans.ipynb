{
 "cells": [
  {
   "cell_type": "code",
   "execution_count": 1,
   "id": "e7bf2079-1b05-4091-98ae-225192f99ae5",
   "metadata": {},
   "outputs": [],
   "source": [
    "import pandas as pd\n",
    "import numpy as np\n",
    "import os\n",
    "from PIL import Image\n",
    "import matplotlib.pyplot as plt"
   ]
  },
  {
   "cell_type": "code",
   "execution_count": 2,
   "id": "42ccca85-aba7-4e2f-b702-357962f88963",
   "metadata": {},
   "outputs": [
    {
     "name": "stdout",
     "output_type": "stream",
     "text": [
      "(64, 64, 4)\n",
      "[  0   0   0 255]\n"
     ]
    }
   ],
   "source": [
    "image_path = 'C:\\\\Users\\\\adity\\\\Downloads\\\\KDAGTASK2\\\\3.png'\n",
    "# Open the image using Pillow\n",
    "img = Image.open(image_path)\n",
    "# Convert the PIL image to a NumPy array\n",
    "img_array = np.array(img)\n",
    "\n",
    "print(img_array.shape)\n",
    "print(img_array[32][13])\n"
   ]
  },
  {
   "cell_type": "markdown",
   "id": "dba36103-8411-481c-a94f-4c357b0b23f7",
   "metadata": {},
   "source": [
    "# Converting 4 channel image into black and white image"
   ]
  },
  {
   "cell_type": "code",
   "execution_count": 3,
   "id": "4f1c0f61-4284-4062-a31d-0133f0f6302b",
   "metadata": {},
   "outputs": [
    {
     "name": "stdout",
     "output_type": "stream",
     "text": [
      "(64, 64)\n"
     ]
    }
   ],
   "source": [
    "data_image = img.convert('L')\n",
    "data = np.array(data_image)\n",
    "print(data.shape)"
   ]
  },
  {
   "cell_type": "code",
   "execution_count": 4,
   "id": "0abbbb6c-5c92-4aa3-8b23-c01a86030689",
   "metadata": {},
   "outputs": [
    {
     "name": "stdout",
     "output_type": "stream",
     "text": [
      "[  0   0   0   0   0   0   0   0   0   0   0   0   0 255   0   0   0   0\n",
      "   0   0   0   0   0   0   0   0   0   0   0   0   0   0   0   0   0   0\n",
      "   0   0   0   0   0   0   0   0   0   0   0   0   0   0   0   0   0   0\n",
      "   0   0   0   0   0   0   0   0   0   0]\n"
     ]
    }
   ],
   "source": [
    "print(data[1])"
   ]
  },
  {
   "cell_type": "code",
   "execution_count": 5,
   "id": "79140ff7-9dcb-4185-afbd-958a2710956e",
   "metadata": {},
   "outputs": [
    {
     "name": "stdout",
     "output_type": "stream",
     "text": [
      "64\n"
     ]
    }
   ],
   "source": [
    "\n",
    "print(data.shape[1])"
   ]
  },
  {
   "cell_type": "markdown",
   "id": "813fc67c-b35a-423f-a163-c3f0a128d81f",
   "metadata": {},
   "source": [
    "# Initialize Centroids"
   ]
  },
  {
   "cell_type": "code",
   "execution_count": 6,
   "id": "89c61cd4-c3fc-40ad-9f04-af69e36b3b10",
   "metadata": {},
   "outputs": [],
   "source": [
    "def initialize_centroids(data, k):\n",
    "    x_min = y_min = float('inf')\n",
    "    x_max = float('-inf')\n",
    "    y_max = float('-inf')\n",
    "    centroids = []\n",
    "    for point, value in np.ndenumerate(data):\n",
    "        if value!= 0:\n",
    "            x_min = min(point[0],x_min)\n",
    "            y_min = min(point[1],y_min)\n",
    "            x_max = max(point[0],x_max)\n",
    "            y_max = max(point[1],y_max)\n",
    "    for i in range(k):\n",
    "        centroids.append((np.random.uniform(x_min, x_max), np.random.uniform(y_min, y_max)))\n",
    "        \n",
    "    return centroids"
   ]
  },
  {
   "cell_type": "markdown",
   "id": "9ea903c9-3ce7-4a54-a080-3790993400ab",
   "metadata": {},
   "source": [
    "# Distance of each data point from centroids"
   ]
  },
  {
   "cell_type": "code",
   "execution_count": 7,
   "id": "4ec7f261-39aa-4c13-bb29-b46440943ba2",
   "metadata": {},
   "outputs": [],
   "source": [
    "def distance(data_point, centroid):\n",
    "    return np.sqrt((data_point[0] - centroid[0])**2 + (data_point[1] - centroid[1])**2)"
   ]
  },
  {
   "cell_type": "markdown",
   "id": "135021db-bffc-4d72-bbb7-ef938083b1e6",
   "metadata": {},
   "source": [
    "# Finding the closest Centroid to each data point"
   ]
  },
  {
   "cell_type": "code",
   "execution_count": 8,
   "id": "c2bdcef5-48b6-4e58-aba6-345921ddfa2d",
   "metadata": {},
   "outputs": [],
   "source": [
    "def centroids_indices(data, centroids, k):\n",
    "    indices = []\n",
    "    for point, value in np.ndenumerate(data):  # it will give position and value of each element\n",
    "        if value != 0:\n",
    "            min_dist = float('inf')\n",
    "            index = None\n",
    "            for i in range(k):\n",
    "                new_dist = distance(point, centroids[i])\n",
    "                if new_dist < min_dist:\n",
    "                    min_dist = new_dist\n",
    "                    index = i\n",
    "            indices.append((point[0], point[1], index))\n",
    "    return indices \n"
   ]
  },
  {
   "cell_type": "markdown",
   "id": "02eb6ade-58c0-4b98-9bcd-26504bc49faa",
   "metadata": {},
   "source": [
    "# Forming a Cluster"
   ]
  },
  {
   "cell_type": "code",
   "execution_count": 9,
   "id": "afc63cc9-936b-4567-8337-b7f5c3171ff5",
   "metadata": {},
   "outputs": [],
   "source": [
    "def form_clusters(indices, k):\n",
    "    clusters = [[] for _ in range(k)] \n",
    "    \n",
    "    for i in range(k):\n",
    "        for t in range(len(indices)):\n",
    "            if indices[t][2] == i:\n",
    "                 clusters[i].append((indices[t][0], indices[t][1]))\n",
    "    clusters_numpy = []\n",
    "    for i in range(k):\n",
    "        clusters_numpy.append(np.array(clusters[i]))           \n",
    "    return clusters_numpy"
   ]
  },
  {
   "cell_type": "markdown",
   "id": "c39d58dd-0e83-4e21-85bc-a60e126aa13f",
   "metadata": {},
   "source": [
    "# Finding new centroid using mean of data points of a cluster"
   ]
  },
  {
   "cell_type": "code",
   "execution_count": 10,
   "id": "c974e68f-ff5d-485a-aad4-2ccc6093c084",
   "metadata": {},
   "outputs": [],
   "source": [
    "def new_centroids(clusters, k):\n",
    "    new_centroids = [[0,0] for _ in range(k)] \n",
    "    counts = [0] * k\n",
    "    \n",
    "    for i in range(k):\n",
    "            for j in range(len(clusters[i])):\n",
    "                 new_centroids[i][0] += clusters[i][j][0]\n",
    "                 new_centroids[i][1] += clusters[i][j][1]\n",
    "                 counts[i] += 1   \n",
    "    for z in range(k):\n",
    "        if counts[z] != 0:\n",
    "                new_centroids[z] = (new_centroids[z][0] / counts[z] , new_centroids[z][1] / counts[z])\n",
    "                \n",
    "    return new_centroids    "
   ]
  },
  {
   "cell_type": "markdown",
   "id": "a6fb9cb8-bd38-4b8e-9ee7-ee1d5458a8ce",
   "metadata": {},
   "source": [
    "# Calculating wcss"
   ]
  },
  {
   "cell_type": "code",
   "execution_count": 11,
   "id": "2ac63cf2-1ce3-46c2-b3d0-ced6f33ca525",
   "metadata": {},
   "outputs": [],
   "source": [
    "def get_wcss( clusters, centroids):\n",
    "  sum_of_sq = 0\n",
    "  for i in range(len(centroids)):\n",
    "        for point in clusters[i]:  \n",
    "            sum_of_sq += (distance(point, centroids[i]))**2\n",
    "        \n",
    "  return sum_of_sq\n",
    "             \n",
    "    "
   ]
  },
  {
   "cell_type": "markdown",
   "id": "33f438fe-9ba2-486b-b3d1-22ae0183ddae",
   "metadata": {},
   "source": [
    "# K_Means Algorithm"
   ]
  },
  {
   "cell_type": "code",
   "execution_count": 12,
   "id": "199c11cd-e6be-406e-8b0f-54d0198f622f",
   "metadata": {},
   "outputs": [],
   "source": [
    "def K_Means (data, k):\n",
    "    condition = True\n",
    "    while condition == True:\n",
    "        initial_centroids = initialize_centroids(data, k)\n",
    "\n",
    "        indices = centroids_indices(data, initial_centroids, k)\n",
    "        clusters = form_clusters(indices, k) # clusters is a 3D list\n",
    "        centroids = new_centroids(clusters, k)\n",
    "        condition = False\n",
    "        i = 0\n",
    "        while i == (initial_centroids == centroids):\n",
    "            initial_centroids = centroids\n",
    "            indices = centroids_indices(data, initial_centroids, k)\n",
    "            clusters = form_clusters(indices, k)\n",
    "            centroids = new_centroids(clusters, k)\n",
    "        for  i in range(len(centroids)):\n",
    "            if centroids[i] == [0,0]:\n",
    "                condition = True\n",
    "               \n",
    "    return clusters, centroids"
   ]
  },
  {
   "cell_type": "markdown",
   "id": "a97df423-6bb0-4cc1-b36f-97819d6f6306",
   "metadata": {},
   "source": [
    "# Plot of WCSS and Number of Clusters"
   ]
  },
  {
   "cell_type": "code",
   "execution_count": 13,
   "id": "61755e9b-ed8a-4848-bbb9-6eecf7b1c0a2",
   "metadata": {},
   "outputs": [],
   "source": [
    "k_range = np.arange(1,7)\n",
    "wcss = np.empty(len(k_range))\n",
    "\n",
    "\"\"\"for i in range(len(k_range)):\n",
    "    clusters_wcss, centroids_wcss = K_Means(data, k_range[i])\n",
    "    wcss[i] = get_wcss( clusters_wcss, centroids_wcss)\"\"\"\n",
    "    \n",
    "min_wcss = np.full(len(k_range), np.inf)\n",
    "for i in range(len(k_range)):\n",
    "    for iteration in range(10):\n",
    "        clusters_wcss, centroids_wcss = K_Means(data, k_range[i])\n",
    "        wcss[i] = get_wcss( clusters_wcss, centroids_wcss)\n",
    "        if min_wcss[i] > wcss[i]:\n",
    "            min_wcss[i] = wcss[i]\n",
    "        \n",
    "\n",
    "\n",
    "\n"
   ]
  },
  {
   "cell_type": "code",
   "execution_count": 14,
   "id": "c3482fba-0984-4ea6-8581-77e05b01c3c8",
   "metadata": {},
   "outputs": [
    {
     "data": {
      "image/png": "[encoded data removed]",
      "text/plain": [
       "<Figure size 640x480 with 1 Axes>"
      ]
     },
     "metadata": {},
     "output_type": "display_data"
    }
   ],
   "source": [
    "plt.plot(k_range, min_wcss)\n",
    "plt.xlabel('Number of clusters')\n",
    "plt.ylabel('WCSS') \n",
    "plt.show()"
   ]
  },
  {
   "cell_type": "code",
   "execution_count": 15,
   "id": "36a882b3-09ed-4128-a443-10042a9f229d",
   "metadata": {},
   "outputs": [
    {
     "name": "stdout",
     "output_type": "stream",
     "text": [
      "[1 2 3 4 5 6]\n",
      "[128785.71974522  64999.18381635  33055.92936832   3339.63295213\n",
      "   2987.50826673   2637.74329994]\n"
     ]
    },
    {
     "data": {
      "text/plain": [
       "6"
      ]
     },
     "execution_count": 15,
     "metadata": {},
     "output_type": "execute_result"
    }
   ],
   "source": [
    "print(k_range)\n",
    "print(min_wcss)\n",
    "len(k_range)"
   ]
  },
  {
   "cell_type": "markdown",
   "id": "00587e87-14ab-4ea3-9275-f4127febf8d1",
   "metadata": {},
   "source": [
    "# Calculating perpendicular distance"
   ]
  },
  {
   "cell_type": "code",
   "execution_count": 16,
   "id": "f5e00d52-0f91-4dc6-b78c-9403da233553",
   "metadata": {},
   "outputs": [],
   "source": [
    "def perpendicular_distance(point, line_point1, line_point2):\n",
    "    x0, y0 = point\n",
    "    x1, y1 = line_point1\n",
    "    x2, y2 = line_point2\n",
    "    \n",
    "    numerator = abs((y2 - y1) * x0 - (x2 - x1) * y0 + x2 * y1 - y2 * x1)\n",
    "    denominator = np.sqrt((y2 - y1)**2 + (x2 - x1)**2)\n",
    "    \n",
    "    distance = numerator / denominator\n",
    "    return distance"
   ]
  },
  {
   "cell_type": "markdown",
   "id": "cdf4fe82-dd45-47d5-b78a-c9cb4f44c95b",
   "metadata": {},
   "source": [
    "# Calculating the value of K"
   ]
  },
  {
   "cell_type": "code",
   "execution_count": 17,
   "id": "c0d504f9-05cb-4ffd-80b2-2ef5fa74bfa9",
   "metadata": {},
   "outputs": [],
   "source": [
    "def calc_k(min_wcss, k_range):\n",
    "    elbow_array = np.column_stack((k_range,min_wcss))\n",
    "    max_distance = float('-inf')\n",
    "    pos = 0\n",
    "    for i in range(1, len(k_range) - 1):\n",
    "        per_dist = perpendicular_distance(elbow_array[i], elbow_array[0], elbow_array[len(k_range)-1])\n",
    "        if max_distance < per_dist:\n",
    "            max_distance = per_dist\n",
    "            pos = i\n",
    "\n",
    "    return elbow_array[pos][0]"
   ]
  },
  {
   "cell_type": "markdown",
   "id": "2409de7a-2975-43e5-b380-2f4cb4e3ef99",
   "metadata": {},
   "source": [
    "# Getting clusters and centroids"
   ]
  },
  {
   "cell_type": "code",
   "execution_count": 18,
   "id": "ed8edad6-a675-489a-b867-398b79d483cd",
   "metadata": {
    "scrolled": true
   },
   "outputs": [
    {
     "name": "stdout",
     "output_type": "stream",
     "text": [
      "[array([[43, 51],\n",
      "       [43, 53],\n",
      "       [44, 46],\n",
      "       [45, 51],\n",
      "       [45, 52],\n",
      "       [46, 48],\n",
      "       [46, 52],\n",
      "       [46, 53],\n",
      "       [47, 47],\n",
      "       [47, 48],\n",
      "       [47, 51],\n",
      "       [47, 53],\n",
      "       [48, 48],\n",
      "       [48, 53],\n",
      "       [48, 54],\n",
      "       [48, 55],\n",
      "       [49, 44],\n",
      "       [49, 47],\n",
      "       [49, 50],\n",
      "       [49, 52],\n",
      "       [49, 55],\n",
      "       [50, 47],\n",
      "       [50, 49],\n",
      "       [50, 52],\n",
      "       [51, 50],\n",
      "       [51, 51],\n",
      "       [51, 52],\n",
      "       [51, 54],\n",
      "       [52, 47],\n",
      "       [52, 49],\n",
      "       [52, 52],\n",
      "       [52, 54],\n",
      "       [53, 47],\n",
      "       [53, 48],\n",
      "       [54, 43],\n",
      "       [54, 46],\n",
      "       [54, 49],\n",
      "       [55, 48],\n",
      "       [58, 50]]), array([[ 2, 51],\n",
      "       [ 3, 40],\n",
      "       [ 4, 51],\n",
      "       [ 5, 43],\n",
      "       [ 5, 48],\n",
      "       [ 6, 47],\n",
      "       [ 6, 55],\n",
      "       [ 8, 44],\n",
      "       [ 8, 46],\n",
      "       [ 8, 49],\n",
      "       [ 8, 50],\n",
      "       [ 8, 51],\n",
      "       [ 8, 52],\n",
      "       [ 9, 47],\n",
      "       [ 9, 49],\n",
      "       [ 9, 50],\n",
      "       [ 9, 51],\n",
      "       [ 9, 52],\n",
      "       [ 9, 53],\n",
      "       [10, 49],\n",
      "       [10, 54],\n",
      "       [11, 44],\n",
      "       [11, 46],\n",
      "       [11, 47],\n",
      "       [11, 49],\n",
      "       [11, 50],\n",
      "       [11, 52],\n",
      "       [12, 43],\n",
      "       [12, 47],\n",
      "       [12, 48],\n",
      "       [12, 53],\n",
      "       [12, 54],\n",
      "       [14, 53],\n",
      "       [15, 54],\n",
      "       [16, 48]]), array([[45,  6],\n",
      "       [45,  7],\n",
      "       [45, 10],\n",
      "       [45, 11],\n",
      "       [46,  6],\n",
      "       [46,  7],\n",
      "       [46,  8],\n",
      "       [46,  9],\n",
      "       [46, 10],\n",
      "       [46, 12],\n",
      "       [46, 13],\n",
      "       [47,  1],\n",
      "       [47,  2],\n",
      "       [47,  6],\n",
      "       [47,  7],\n",
      "       [47, 14],\n",
      "       [48,  5],\n",
      "       [48,  8],\n",
      "       [48, 10],\n",
      "       [48, 11],\n",
      "       [48, 13],\n",
      "       [49, 10],\n",
      "       [49, 14],\n",
      "       [50,  7],\n",
      "       [50,  8],\n",
      "       [50, 10],\n",
      "       [50, 12],\n",
      "       [50, 13],\n",
      "       [51,  7],\n",
      "       [51,  8],\n",
      "       [51,  9],\n",
      "       [51, 11],\n",
      "       [51, 12],\n",
      "       [52,  9],\n",
      "       [52, 11],\n",
      "       [52, 12],\n",
      "       [52, 15],\n",
      "       [53,  9],\n",
      "       [53, 14],\n",
      "       [54,  6],\n",
      "       [54, 10],\n",
      "       [56,  9],\n",
      "       [58, 13]]), array([[ 1, 13],\n",
      "       [ 4,  6],\n",
      "       [ 5,  8],\n",
      "       [ 5, 11],\n",
      "       [ 6,  8],\n",
      "       [ 7,  3],\n",
      "       [ 7,  6],\n",
      "       [ 7,  7],\n",
      "       [ 7,  9],\n",
      "       [ 7, 11],\n",
      "       [ 8,  8],\n",
      "       [ 8, 17],\n",
      "       [ 9,  6],\n",
      "       [ 9,  7],\n",
      "       [ 9, 10],\n",
      "       [ 9, 11],\n",
      "       [ 9, 13],\n",
      "       [10,  3],\n",
      "       [10,  7],\n",
      "       [10,  8],\n",
      "       [10, 13],\n",
      "       [10, 14],\n",
      "       [11,  4],\n",
      "       [11,  5],\n",
      "       [11, 11],\n",
      "       [11, 12],\n",
      "       [11, 13],\n",
      "       [11, 14],\n",
      "       [12,  4],\n",
      "       [12,  9],\n",
      "       [13,  5],\n",
      "       [13,  6],\n",
      "       [13,  8],\n",
      "       [13, 12],\n",
      "       [13, 13],\n",
      "       [14,  6],\n",
      "       [14, 10],\n",
      "       [14, 12],\n",
      "       [15, 11],\n",
      "       [19,  7]])]\n",
      "[(49.38461538461539, 50.02564102564103), (9.257142857142858, 49.142857142857146), (49.2093023255814, 9.418604651162791), (9.95, 9.025)]\n"
     ]
    }
   ],
   "source": [
    "k = int(calc_k(min_wcss, k_range))\n",
    "clusters, centroids = K_Means(data, k)\n",
    "print(clusters)\n",
    "print(centroids)\n"
   ]
  },
  {
   "cell_type": "code",
   "execution_count": 19,
   "id": "a8f2b956-7f06-4677-a0ae-cf4f8ae11f33",
   "metadata": {},
   "outputs": [
    {
     "data": {
      "image/png": "[encoded data removed]",
      "text/plain": [
       "<Figure size 640x480 with 1 Axes>"
      ]
     },
     "metadata": {},
     "output_type": "display_data"
    },
    {
     "name": "stdout",
     "output_type": "stream",
     "text": [
      "                  Clusters   Distance\n",
      "0  Cluster 1 and Cluster 2  40.137182\n",
      "1  Cluster 1 and Cluster 3  40.607415\n",
      "2  Cluster 1 and Cluster 4  56.887094\n",
      "3  Cluster 2 and Cluster 3  56.339962\n",
      "4  Cluster 2 and Cluster 4  40.123840\n",
      "5  Cluster 3 and Cluster 4  39.261275\n"
     ]
    }
   ],
   "source": [
    "centroids_array = np.array(centroids)\n",
    "\n",
    "colors = plt.cm.rainbow(np.linspace(0, 1, len(centroids)))\n",
    "labels = [f'Cluster {i+1}' for i in range(len(centroids))]\n",
    "\n",
    "# Plotting each array with a different color and label\n",
    "for i, array in enumerate(clusters):\n",
    "    plt.scatter(array[:,0],array[:,1], color=colors[i], label=labels[i])\n",
    "\n",
    "\n",
    "plt.scatter(centroids_array[:,0], centroids_array[:,1], color='black', marker='x', label = 'centroids')\n",
    "\n",
    "plt.xlabel('X-axis')\n",
    "plt.ylabel('Y-axis')\n",
    "plt.title('Scatter Plot of Points')\n",
    "plt.legend()\n",
    "# Show the plot\n",
    "plt.show()\n",
    "\n",
    "distances = np.linalg.norm(centroids_array[:, np.newaxis] - centroids_array, axis=2)\n",
    "\n",
    "rows = []\n",
    "for i in range(len(centroids)):\n",
    "    for j in range(i+1, len(centroids)):\n",
    "        rows.append({\"Clusters\": f'Cluster {i+1} and Cluster {j+1}', \"Distance\": distances[i, j]})\n",
    "distances = pd.DataFrame(rows)\n",
    "print(distances)"
   ]
  },
  {
   "cell_type": "code",
   "execution_count": null,
   "id": "928c6d17-fa26-465d-8753-d9e297b7490e",
   "metadata": {},
   "outputs": [],
   "source": []
  },
  {
   "cell_type": "code",
   "execution_count": null,
   "id": "427256eb-308d-4f41-ae2e-791f0002776f",
   "metadata": {},
   "outputs": [],
   "source": []
  }
 ],
 "metadata": {
  "kernelspec": {
   "display_name": "Python 3 (ipykernel)",
   "language": "python",
   "name": "python3"
  },
  "language_info": {
   "codemirror_mode": {
    "name": "ipython",
    "version": 3
   },
   "file_extension": ".py",
   "mimetype": "text/x-python",
   "name": "python",
   "nbconvert_exporter": "python",
   "pygments_lexer": "ipython3",
   "version": "3.12.2"
  }
 },
 "nbformat": 4,
 "nbformat_minor": 5
}
