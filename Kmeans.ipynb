{
 "cells": [
  {
   "cell_type": "code",
   "execution_count": null,
   "id": "e7bf2079-1b05-4091-98ae-225192f99ae5",
   "metadata": {},
   "outputs": [],
   "source": [
    "import pandas as pd\n",
    "import numpy as np\n",
    "import os\n",
    "from PIL import Image\n",
    "import matplotlib.pyplot as plt"
   ]
  },
  {
   "cell_type": "code",
   "execution_count": null,
   "id": "42ccca85-aba7-4e2f-b702-357962f88963",
   "metadata": {},
   "outputs": [],
   "source": [
    "image_path = 'image path'\n",
    "# Open the image using Pillow\n",
    "img = Image.open(image_path)\n",
    "# Convert the PIL image to a NumPy array\n",
    "img_array = np.array(img)\n",
    "\n",
    "print(img_array.shape)\n",
    "print(img_array[32][13])\n"
   ]
  },
  {
   "cell_type": "markdown",
   "id": "dba36103-8411-481c-a94f-4c357b0b23f7",
   "metadata": {},
   "source": [
    "# Converting 4 channel image into black and white image"
   ]
  },
  {
   "cell_type": "code",
   "execution_count": null,
   "id": "4f1c0f61-4284-4062-a31d-0133f0f6302b",
   "metadata": {},
   "outputs": [],
   "source": [
    "data_image = img.convert('L')\n",
    "data = np.array(data_image)\n",
    "print(data.shape)"
   ]
  },
  {
   "cell_type": "code",
   "execution_count": null,
   "id": "0abbbb6c-5c92-4aa3-8b23-c01a86030689",
   "metadata": {},
   "outputs": [],
   "source": [
    "print(data[1])"
   ]
  },
  {
   "cell_type": "code",
   "execution_count": null,
   "id": "79140ff7-9dcb-4185-afbd-958a2710956e",
   "metadata": {},
   "outputs": [],
   "source": [
    "\n",
    "print(data.shape[1])"
   ]
  },
  {
   "cell_type": "markdown",
   "id": "813fc67c-b35a-423f-a163-c3f0a128d81f",
   "metadata": {},
   "source": [
    "# Initialize Centroids"
   ]
  },
  {
   "cell_type": "code",
   "execution_count": null,
   "id": "89c61cd4-c3fc-40ad-9f04-af69e36b3b10",
   "metadata": {},
   "outputs": [],
   "source": [
    "def initialize_centroids(data, k):\n",
    "    x_min = y_min = float('inf')\n",
    "    x_max = float('-inf')\n",
    "    y_max = float('-inf')\n",
    "    centroids = []\n",
    "    for point, value in np.ndenumerate(data):\n",
    "        if value!= 0:\n",
    "            x_min = min(point[0],x_min)\n",
    "            y_min = min(point[1],y_min)\n",
    "            x_max = max(point[0],x_max)\n",
    "            y_max = max(point[1],y_max)\n",
    "    for i in range(k):\n",
    "        centroids.append((np.random.uniform(x_min, x_max), np.random.uniform(y_min, y_max)))\n",
    "        \n",
    "    return centroids"
   ]
  },
  {
   "cell_type": "markdown",
   "id": "9ea903c9-3ce7-4a54-a080-3790993400ab",
   "metadata": {},
   "source": [
    "# Distance of each data point from centroids"
   ]
  },
  {
   "cell_type": "code",
   "execution_count": null,
   "id": "4ec7f261-39aa-4c13-bb29-b46440943ba2",
   "metadata": {},
   "outputs": [],
   "source": [
    "def distance(data_point, centroid):\n",
    "    return np.sqrt((data_point[0] - centroid[0])**2 + (data_point[1] - centroid[1])**2)"
   ]
  },
  {
   "cell_type": "markdown",
   "id": "135021db-bffc-4d72-bbb7-ef938083b1e6",
   "metadata": {},
   "source": [
    "# Finding the closest Centroid to each data point"
   ]
  },
  {
   "cell_type": "code",
   "execution_count": null,
   "id": "c2bdcef5-48b6-4e58-aba6-345921ddfa2d",
   "metadata": {},
   "outputs": [],
   "source": [
    "def centroids_indices(data, centroids, k):\n",
    "    indices = []\n",
    "    for point, value in np.ndenumerate(data):  # it will give position and value of each element\n",
    "        if value != 0:\n",
    "            min_dist = float('inf')\n",
    "            index = None\n",
    "            for i in range(k):\n",
    "                new_dist = distance(point, centroids[i])\n",
    "                if new_dist < min_dist:\n",
    "                    min_dist = new_dist\n",
    "                    index = i\n",
    "            indices.append((point[0], point[1], index))\n",
    "    return indices \n"
   ]
  },
  {
   "cell_type": "markdown",
   "id": "02eb6ade-58c0-4b98-9bcd-26504bc49faa",
   "metadata": {},
   "source": [
    "# Forming a Cluster"
   ]
  },
  {
   "cell_type": "code",
   "execution_count": null,
   "id": "afc63cc9-936b-4567-8337-b7f5c3171ff5",
   "metadata": {},
   "outputs": [],
   "source": [
    "def form_clusters(indices, k):\n",
    "    clusters = [[] for _ in range(k)] \n",
    "    \n",
    "    for i in range(k):\n",
    "        for t in range(len(indices)):\n",
    "            if indices[t][2] == i:\n",
    "                 clusters[i].append((indices[t][0], indices[t][1]))\n",
    "    clusters_numpy = []\n",
    "    for i in range(k):\n",
    "        clusters_numpy.append(np.array(clusters[i]))           \n",
    "    return clusters_numpy"
   ]
  },
  {
   "cell_type": "markdown",
   "id": "c39d58dd-0e83-4e21-85bc-a60e126aa13f",
   "metadata": {},
   "source": [
    "# Finding new centroid using mean of data points of a cluster"
   ]
  },
  {
   "cell_type": "code",
   "execution_count": null,
   "id": "c974e68f-ff5d-485a-aad4-2ccc6093c084",
   "metadata": {},
   "outputs": [],
   "source": [
    "def new_centroids(clusters, k):\n",
    "    new_centroids = [[0,0] for _ in range(k)] \n",
    "    counts = [0] * k\n",
    "    \n",
    "    for i in range(k):\n",
    "            for j in range(len(clusters[i])):\n",
    "                 new_centroids[i][0] += clusters[i][j][0]\n",
    "                 new_centroids[i][1] += clusters[i][j][1]\n",
    "                 counts[i] += 1   \n",
    "    for z in range(k):\n",
    "        if counts[z] != 0:\n",
    "                new_centroids[z] = (new_centroids[z][0] / counts[z] , new_centroids[z][1] / counts[z])\n",
    "                \n",
    "    return new_centroids    "
   ]
  },
  {
   "cell_type": "markdown",
   "id": "a6fb9cb8-bd38-4b8e-9ee7-ee1d5458a8ce",
   "metadata": {},
   "source": [
    "# Calculating wcss"
   ]
  },
  {
   "cell_type": "code",
   "execution_count": null,
   "id": "2ac63cf2-1ce3-46c2-b3d0-ced6f33ca525",
   "metadata": {},
   "outputs": [],
   "source": [
    "def get_wcss( clusters, centroids):\n",
    "  sum_of_sq = 0\n",
    "  for i in range(len(centroids)):\n",
    "        for point in clusters[i]:  \n",
    "            sum_of_sq += (distance(point, centroids[i]))**2\n",
    "        \n",
    "  return sum_of_sq\n",
    "             \n",
    "    "
   ]
  },
  {
   "cell_type": "markdown",
   "id": "33f438fe-9ba2-486b-b3d1-22ae0183ddae",
   "metadata": {},
   "source": [
    "# K_Means Algorithm"
   ]
  },
  {
   "cell_type": "code",
   "execution_count": null,
   "id": "199c11cd-e6be-406e-8b0f-54d0198f622f",
   "metadata": {},
   "outputs": [],
   "source": [
    "def K_Means (data, k):\n",
    "    condition = True\n",
    "    while condition == True:\n",
    "        initial_centroids = initialize_centroids(data, k)\n",
    "\n",
    "        indices = centroids_indices(data, initial_centroids, k)\n",
    "        clusters = form_clusters(indices, k) # clusters is a 3D list\n",
    "        centroids = new_centroids(clusters, k)\n",
    "        condition = False\n",
    "        i = 0\n",
    "        while i == (initial_centroids == centroids):\n",
    "            initial_centroids = centroids\n",
    "            indices = centroids_indices(data, initial_centroids, k)\n",
    "            clusters = form_clusters(indices, k)\n",
    "            centroids = new_centroids(clusters, k)\n",
    "        for  i in range(len(centroids)):\n",
    "            if centroids[i] == [0,0]:\n",
    "                condition = True\n",
    "               \n",
    "    return clusters, centroids"
   ]
  },
  {
   "cell_type": "markdown",
   "id": "a97df423-6bb0-4cc1-b36f-97819d6f6306",
   "metadata": {},
   "source": [
    "# Plot of WCSS and Number of Clusters"
   ]
  },
  {
   "cell_type": "code",
   "execution_count": null,
   "id": "61755e9b-ed8a-4848-bbb9-6eecf7b1c0a2",
   "metadata": {},
   "outputs": [],
   "source": [
    "k_range = np.arange(1,7)\n",
    "wcss = np.empty(len(k_range))\n",
    "\n",
    "\"\"\"for i in range(len(k_range)):\n",
    "    clusters_wcss, centroids_wcss = K_Means(data, k_range[i])\n",
    "    wcss[i] = get_wcss( clusters_wcss, centroids_wcss)\"\"\"\n",
    "    \n",
    "min_wcss = np.full(len(k_range), np.inf)\n",
    "for i in range(len(k_range)):\n",
    "    for iteration in range(10):\n",
    "        clusters_wcss, centroids_wcss = K_Means(data, k_range[i])\n",
    "        wcss[i] = get_wcss( clusters_wcss, centroids_wcss)\n",
    "        if min_wcss[i] > wcss[i]:\n",
    "            min_wcss[i] = wcss[i]\n",
    "        \n",
    "\n",
    "\n",
    "\n"
   ]
  },
  {
   "cell_type": "code",
   "execution_count": null,
   "id": "c3482fba-0984-4ea6-8581-77e05b01c3c8",
   "metadata": {},
   "outputs": [],
   "source": [
    "plt.plot(k_range, min_wcss)\n",
    "plt.xlabel('Number of clusters')\n",
    "plt.ylabel('WCSS') \n",
    "plt.show()"
   ]
  },
  {
   "cell_type": "code",
   "execution_count": null,
   "id": "36a882b3-09ed-4128-a443-10042a9f229d",
   "metadata": {},
   "outputs": [],
   "source": [
    "print(k_range)\n",
    "print(min_wcss)\n",
    "len(k_range)"
   ]
  },
  {
   "cell_type": "markdown",
   "id": "00587e87-14ab-4ea3-9275-f4127febf8d1",
   "metadata": {},
   "source": [
    "# Calculating perpendicular distance"
   ]
  },
  {
   "cell_type": "code",
   "execution_count": null,
   "id": "f5e00d52-0f91-4dc6-b78c-9403da233553",
   "metadata": {},
   "outputs": [],
   "source": [
    "def perpendicular_distance(point, line_point1, line_point2):\n",
    "    x0, y0 = point\n",
    "    x1, y1 = line_point1\n",
    "    x2, y2 = line_point2\n",
    "    \n",
    "    numerator = abs((y2 - y1) * x0 - (x2 - x1) * y0 + x2 * y1 - y2 * x1)\n",
    "    denominator = np.sqrt((y2 - y1)**2 + (x2 - x1)**2)\n",
    "    \n",
    "    distance = numerator / denominator\n",
    "    return distance"
   ]
  },
  {
   "cell_type": "markdown",
   "id": "cdf4fe82-dd45-47d5-b78a-c9cb4f44c95b",
   "metadata": {},
   "source": [
    "# Calculating the value of K"
   ]
  },
  {
   "cell_type": "code",
   "execution_count": null,
   "id": "c0d504f9-05cb-4ffd-80b2-2ef5fa74bfa9",
   "metadata": {},
   "outputs": [],
   "source": [
    "def calc_k(min_wcss, k_range):\n",
    "    elbow_array = np.column_stack((k_range,min_wcss))\n",
    "    max_distance = float('-inf')\n",
    "    pos = 0\n",
    "    for i in range(1, len(k_range) - 1):\n",
    "        per_dist = perpendicular_distance(elbow_array[i], elbow_array[0], elbow_array[len(k_range)-1])\n",
    "        if max_distance < per_dist:\n",
    "            max_distance = per_dist\n",
    "            pos = i\n",
    "\n",
    "    return elbow_array[pos][0]"
   ]
  },
  {
   "cell_type": "markdown",
   "id": "2409de7a-2975-43e5-b380-2f4cb4e3ef99",
   "metadata": {},
   "source": [
    "# Getting clusters and centroids"
   ]
  },
  {
   "cell_type": "code",
   "execution_count": null,
   "id": "ed8edad6-a675-489a-b867-398b79d483cd",
   "metadata": {
    "scrolled": true
   },
   "outputs": [],
   "source": [
    "k = int(calc_k(min_wcss, k_range))\n",
    "clusters, centroids = K_Means(data, k)\n",
    "print(clusters)\n",
    "print(centroids)\n"
   ]
  },
  {
   "cell_type": "code",
   "execution_count": null,
   "id": "a8f2b956-7f06-4677-a0ae-cf4f8ae11f33",
   "metadata": {},
   "outputs": [],
   "source": [
    "centroids_array = np.array(centroids)\n",
    "\n",
    "colors = plt.cm.rainbow(np.linspace(0, 1, len(centroids)))\n",
    "labels = [f'Cluster {i+1}' for i in range(len(centroids))]\n",
    "\n",
    "# Plotting each array with a different color and label\n",
    "for i, array in enumerate(clusters):\n",
    "    plt.scatter(array[:,0],array[:,1], color=colors[i], label=labels[i])\n",
    "\n",
    "\n",
    "plt.scatter(centroids_array[:,0], centroids_array[:,1], color='black', marker='x', label = 'centroids')\n",
    "\n",
    "plt.xlabel('X-axis')\n",
    "plt.ylabel('Y-axis')\n",
    "plt.title('Scatter Plot of Points')\n",
    "plt.legend()\n",
    "# Show the plot\n",
    "plt.show()\n",
    "\n",
    "distances = np.linalg.norm(centroids_array[:, np.newaxis] - centroids_array, axis=2)\n",
    "\n",
    "rows = []\n",
    "for i in range(len(centroids)):\n",
    "    for j in range(i+1, len(centroids)):\n",
    "        rows.append({\"Clusters\": f'Cluster {i+1} and Cluster {j+1}', \"Distance\": distances[i, j]})\n",
    "distances = pd.DataFrame(rows)\n",
    "print(distances)"
   ]
  }
 ],
 "metadata": {
  "kernelspec": {
   "display_name": "Python 3 (ipykernel)",
   "language": "python",
   "name": "python3"
  },
  "language_info": {
   "codemirror_mode": {
    "name": "ipython",
    "version": 3
   },
   "file_extension": ".py",
   "mimetype": "text/x-python",
   "name": "python",
   "nbconvert_exporter": "python",
   "pygments_lexer": "ipython3",
   "version": "3.11.7"
  }
 },
 "nbformat": 4,
 "nbformat_minor": 5
}
